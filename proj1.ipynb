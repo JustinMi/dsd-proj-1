{
 "cells": [
  {
   "cell_type": "code",
   "execution_count": 10,
   "metadata": {},
   "outputs": [],
   "source": [
    "%matplotlib inline\n",
    "import missingno as msno\n",
    "import seaborn as sns\n",
    "sns.set()\n",
    "import numpy as np\n",
    "import pandas as pd\n",
    "import math\n",
    "from collections import defaultdict\n",
    "import matplotlib.pyplot as plt\n",
    "from scipy.stats import linregress\n"
   ]
  },
  {
   "cell_type": "code",
   "execution_count": 11,
   "metadata": {
    "collapsed": true
   },
   "outputs": [],
   "source": [
    "# school system finances dataset\n",
    "schools = pd.read_excel('elsec15.xls', nrows=50000)"
   ]
  },
  {
   "cell_type": "code",
   "execution_count": 12,
   "metadata": {},
   "outputs": [
    {
     "data": {
      "text/html": [
       "<div>\n",
       "<style>\n",
       "    .dataframe thead tr:only-child th {\n",
       "        text-align: right;\n",
       "    }\n",
       "\n",
       "    .dataframe thead th {\n",
       "        text-align: left;\n",
       "    }\n",
       "\n",
       "    .dataframe tbody tr th {\n",
       "        vertical-align: top;\n",
       "    }\n",
       "</style>\n",
       "<table border=\"1\" class=\"dataframe\">\n",
       "  <thead>\n",
       "    <tr style=\"text-align: right;\">\n",
       "      <th></th>\n",
       "      <th>STATE</th>\n",
       "      <th>IDCENSUS</th>\n",
       "      <th>NAME</th>\n",
       "      <th>CONUM</th>\n",
       "      <th>CSA</th>\n",
       "      <th>CBSA</th>\n",
       "      <th>SCHLEV</th>\n",
       "      <th>NCESID</th>\n",
       "      <th>YRDATA</th>\n",
       "      <th>V33</th>\n",
       "      <th>...</th>\n",
       "      <th>V32</th>\n",
       "      <th>_19H</th>\n",
       "      <th>_21F</th>\n",
       "      <th>_31F</th>\n",
       "      <th>_41F</th>\n",
       "      <th>_61V</th>\n",
       "      <th>_66V</th>\n",
       "      <th>W01</th>\n",
       "      <th>W31</th>\n",
       "      <th>W61</th>\n",
       "    </tr>\n",
       "  </thead>\n",
       "  <tbody>\n",
       "    <tr>\n",
       "      <th>0</th>\n",
       "      <td>1</td>\n",
       "      <td>1500100100000</td>\n",
       "      <td>AUTAUGA COUNTY SCHOOL DISTRICT</td>\n",
       "      <td>1001</td>\n",
       "      <td>N</td>\n",
       "      <td>33860</td>\n",
       "      <td>3</td>\n",
       "      <td>0100240</td>\n",
       "      <td>15</td>\n",
       "      <td>9664</td>\n",
       "      <td>...</td>\n",
       "      <td>0</td>\n",
       "      <td>49431</td>\n",
       "      <td>16603</td>\n",
       "      <td>2992</td>\n",
       "      <td>63042</td>\n",
       "      <td>0</td>\n",
       "      <td>0</td>\n",
       "      <td>2094</td>\n",
       "      <td>372</td>\n",
       "      <td>8617</td>\n",
       "    </tr>\n",
       "    <tr>\n",
       "      <th>1</th>\n",
       "      <td>1</td>\n",
       "      <td>1500200100000</td>\n",
       "      <td>BALDWIN COUNTY SCHOOL DISTRICT</td>\n",
       "      <td>1003</td>\n",
       "      <td>380</td>\n",
       "      <td>19300</td>\n",
       "      <td>3</td>\n",
       "      <td>0100270</td>\n",
       "      <td>15</td>\n",
       "      <td>30596</td>\n",
       "      <td>...</td>\n",
       "      <td>0</td>\n",
       "      <td>337160</td>\n",
       "      <td>99087</td>\n",
       "      <td>13027</td>\n",
       "      <td>423220</td>\n",
       "      <td>0</td>\n",
       "      <td>0</td>\n",
       "      <td>5784</td>\n",
       "      <td>50441</td>\n",
       "      <td>71370</td>\n",
       "    </tr>\n",
       "    <tr>\n",
       "      <th>2</th>\n",
       "      <td>1</td>\n",
       "      <td>1500300100000</td>\n",
       "      <td>BARBOUR COUNTY SCHOOL DISTRICT</td>\n",
       "      <td>1005</td>\n",
       "      <td>N</td>\n",
       "      <td>N</td>\n",
       "      <td>3</td>\n",
       "      <td>0100300</td>\n",
       "      <td>15</td>\n",
       "      <td>925</td>\n",
       "      <td>...</td>\n",
       "      <td>0</td>\n",
       "      <td>8024</td>\n",
       "      <td>0</td>\n",
       "      <td>304</td>\n",
       "      <td>7720</td>\n",
       "      <td>0</td>\n",
       "      <td>0</td>\n",
       "      <td>0</td>\n",
       "      <td>0</td>\n",
       "      <td>646</td>\n",
       "    </tr>\n",
       "    <tr>\n",
       "      <th>3</th>\n",
       "      <td>1</td>\n",
       "      <td>1500300200000</td>\n",
       "      <td>EUFAULA CITY SCHOOL DISTRICT</td>\n",
       "      <td>1005</td>\n",
       "      <td>N</td>\n",
       "      <td>N</td>\n",
       "      <td>3</td>\n",
       "      <td>0101410</td>\n",
       "      <td>15</td>\n",
       "      <td>2829</td>\n",
       "      <td>...</td>\n",
       "      <td>0</td>\n",
       "      <td>0</td>\n",
       "      <td>0</td>\n",
       "      <td>0</td>\n",
       "      <td>0</td>\n",
       "      <td>0</td>\n",
       "      <td>0</td>\n",
       "      <td>0</td>\n",
       "      <td>2054</td>\n",
       "      <td>7478</td>\n",
       "    </tr>\n",
       "    <tr>\n",
       "      <th>4</th>\n",
       "      <td>1</td>\n",
       "      <td>1500400100000</td>\n",
       "      <td>BIBB COUNTY SCHOOL DISTRICT</td>\n",
       "      <td>1007</td>\n",
       "      <td>142</td>\n",
       "      <td>13820</td>\n",
       "      <td>3</td>\n",
       "      <td>0100360</td>\n",
       "      <td>15</td>\n",
       "      <td>3357</td>\n",
       "      <td>...</td>\n",
       "      <td>0</td>\n",
       "      <td>22155</td>\n",
       "      <td>0</td>\n",
       "      <td>1190</td>\n",
       "      <td>20965</td>\n",
       "      <td>0</td>\n",
       "      <td>0</td>\n",
       "      <td>1397</td>\n",
       "      <td>790</td>\n",
       "      <td>5400</td>\n",
       "    </tr>\n",
       "  </tbody>\n",
       "</table>\n",
       "<p>5 rows × 141 columns</p>\n",
       "</div>"
      ],
      "text/plain": [
       "   STATE       IDCENSUS                            NAME  CONUM  CSA   CBSA  \\\n",
       "0      1  1500100100000  AUTAUGA COUNTY SCHOOL DISTRICT   1001    N  33860   \n",
       "1      1  1500200100000  BALDWIN COUNTY SCHOOL DISTRICT   1003  380  19300   \n",
       "2      1  1500300100000  BARBOUR COUNTY SCHOOL DISTRICT   1005    N      N   \n",
       "3      1  1500300200000    EUFAULA CITY SCHOOL DISTRICT   1005    N      N   \n",
       "4      1  1500400100000     BIBB COUNTY SCHOOL DISTRICT   1007  142  13820   \n",
       "\n",
       "   SCHLEV   NCESID  YRDATA    V33  ...    V32    _19H   _21F   _31F    _41F  \\\n",
       "0       3  0100240      15   9664  ...      0   49431  16603   2992   63042   \n",
       "1       3  0100270      15  30596  ...      0  337160  99087  13027  423220   \n",
       "2       3  0100300      15    925  ...      0    8024      0    304    7720   \n",
       "3       3  0101410      15   2829  ...      0       0      0      0       0   \n",
       "4       3  0100360      15   3357  ...      0   22155      0   1190   20965   \n",
       "\n",
       "   _61V  _66V   W01    W31    W61  \n",
       "0     0     0  2094    372   8617  \n",
       "1     0     0  5784  50441  71370  \n",
       "2     0     0     0      0    646  \n",
       "3     0     0     0   2054   7478  \n",
       "4     0     0  1397    790   5400  \n",
       "\n",
       "[5 rows x 141 columns]"
      ]
     },
     "execution_count": 12,
     "metadata": {},
     "output_type": "execute_result"
    }
   ],
   "source": [
    "schools.head()"
   ]
  },
  {
   "cell_type": "code",
   "execution_count": 13,
   "metadata": {
    "scrolled": true
   },
   "outputs": [
    {
     "data": {
      "text/html": [
       "<div>\n",
       "<style>\n",
       "    .dataframe thead tr:only-child th {\n",
       "        text-align: right;\n",
       "    }\n",
       "\n",
       "    .dataframe thead th {\n",
       "        text-align: left;\n",
       "    }\n",
       "\n",
       "    .dataframe tbody tr th {\n",
       "        vertical-align: top;\n",
       "    }\n",
       "</style>\n",
       "<table border=\"1\" class=\"dataframe\">\n",
       "  <thead>\n",
       "    <tr style=\"text-align: right;\">\n",
       "      <th></th>\n",
       "      <th>STATE</th>\n",
       "      <th>IDCENSUS</th>\n",
       "      <th>CONUM</th>\n",
       "      <th>SCHLEV</th>\n",
       "      <th>YRDATA</th>\n",
       "      <th>V33</th>\n",
       "      <th>TOTALREV</th>\n",
       "      <th>TFEDREV</th>\n",
       "      <th>C14</th>\n",
       "      <th>C15</th>\n",
       "      <th>...</th>\n",
       "      <th>V32</th>\n",
       "      <th>_19H</th>\n",
       "      <th>_21F</th>\n",
       "      <th>_31F</th>\n",
       "      <th>_41F</th>\n",
       "      <th>_61V</th>\n",
       "      <th>_66V</th>\n",
       "      <th>W01</th>\n",
       "      <th>W31</th>\n",
       "      <th>W61</th>\n",
       "    </tr>\n",
       "  </thead>\n",
       "  <tbody>\n",
       "    <tr>\n",
       "      <th>count</th>\n",
       "      <td>14376.000000</td>\n",
       "      <td>1.437600e+04</td>\n",
       "      <td>14376.000000</td>\n",
       "      <td>14376.000000</td>\n",
       "      <td>14376.0</td>\n",
       "      <td>14376.000000</td>\n",
       "      <td>1.437600e+04</td>\n",
       "      <td>1.437600e+04</td>\n",
       "      <td>14376.000000</td>\n",
       "      <td>14376.000000</td>\n",
       "      <td>...</td>\n",
       "      <td>14376.000000</td>\n",
       "      <td>1.437600e+04</td>\n",
       "      <td>1.437600e+04</td>\n",
       "      <td>14376.000000</td>\n",
       "      <td>1.437600e+04</td>\n",
       "      <td>14376.000000</td>\n",
       "      <td>14376.000000</td>\n",
       "      <td>14376.000000</td>\n",
       "      <td>14376.000000</td>\n",
       "      <td>1.437600e+04</td>\n",
       "    </tr>\n",
       "    <tr>\n",
       "      <th>mean</th>\n",
       "      <td>26.801336</td>\n",
       "      <td>2.728090e+13</td>\n",
       "      <td>29838.158598</td>\n",
       "      <td>2.883139</td>\n",
       "      <td>15.0</td>\n",
       "      <td>3374.682526</td>\n",
       "      <td>4.546951e+04</td>\n",
       "      <td>3.708038e+03</td>\n",
       "      <td>915.914858</td>\n",
       "      <td>752.781093</td>\n",
       "      <td>...</td>\n",
       "      <td>7.318656</td>\n",
       "      <td>2.871850e+04</td>\n",
       "      <td>4.831726e+03</td>\n",
       "      <td>3936.853158</td>\n",
       "      <td>2.957606e+04</td>\n",
       "      <td>487.162354</td>\n",
       "      <td>553.761547</td>\n",
       "      <td>1335.636825</td>\n",
       "      <td>3710.651920</td>\n",
       "      <td>9.091542e+03</td>\n",
       "    </tr>\n",
       "    <tr>\n",
       "      <th>std</th>\n",
       "      <td>13.894331</td>\n",
       "      <td>1.389514e+13</td>\n",
       "      <td>14753.492121</td>\n",
       "      <td>1.271649</td>\n",
       "      <td>0.0</td>\n",
       "      <td>14419.737037</td>\n",
       "      <td>2.590623e+05</td>\n",
       "      <td>2.021328e+04</td>\n",
       "      <td>5972.748111</td>\n",
       "      <td>3619.184513</td>\n",
       "      <td>...</td>\n",
       "      <td>122.649299</td>\n",
       "      <td>1.841763e+05</td>\n",
       "      <td>2.652979e+04</td>\n",
       "      <td>20071.591744</td>\n",
       "      <td>1.894224e+05</td>\n",
       "      <td>3555.988118</td>\n",
       "      <td>6968.740454</td>\n",
       "      <td>10651.097318</td>\n",
       "      <td>20183.852905</td>\n",
       "      <td>3.261580e+04</td>\n",
       "    </tr>\n",
       "    <tr>\n",
       "      <th>min</th>\n",
       "      <td>1.000000</td>\n",
       "      <td>1.500100e+12</td>\n",
       "      <td>1001.000000</td>\n",
       "      <td>1.000000</td>\n",
       "      <td>15.0</td>\n",
       "      <td>0.000000</td>\n",
       "      <td>0.000000e+00</td>\n",
       "      <td>0.000000e+00</td>\n",
       "      <td>0.000000</td>\n",
       "      <td>0.000000</td>\n",
       "      <td>...</td>\n",
       "      <td>0.000000</td>\n",
       "      <td>0.000000e+00</td>\n",
       "      <td>0.000000e+00</td>\n",
       "      <td>0.000000</td>\n",
       "      <td>0.000000e+00</td>\n",
       "      <td>0.000000</td>\n",
       "      <td>0.000000</td>\n",
       "      <td>0.000000</td>\n",
       "      <td>0.000000</td>\n",
       "      <td>0.000000e+00</td>\n",
       "    </tr>\n",
       "    <tr>\n",
       "      <th>25%</th>\n",
       "      <td>15.000000</td>\n",
       "      <td>1.550327e+13</td>\n",
       "      <td>18063.000000</td>\n",
       "      <td>3.000000</td>\n",
       "      <td>15.0</td>\n",
       "      <td>305.000000</td>\n",
       "      <td>5.241500e+03</td>\n",
       "      <td>2.920000e+02</td>\n",
       "      <td>54.000000</td>\n",
       "      <td>0.000000</td>\n",
       "      <td>...</td>\n",
       "      <td>0.000000</td>\n",
       "      <td>8.400000e+01</td>\n",
       "      <td>0.000000e+00</td>\n",
       "      <td>5.000000</td>\n",
       "      <td>7.150000e+01</td>\n",
       "      <td>0.000000</td>\n",
       "      <td>0.000000</td>\n",
       "      <td>0.000000</td>\n",
       "      <td>0.000000</td>\n",
       "      <td>8.350000e+02</td>\n",
       "    </tr>\n",
       "    <tr>\n",
       "      <th>50%</th>\n",
       "      <td>27.000000</td>\n",
       "      <td>2.750320e+13</td>\n",
       "      <td>30063.000000</td>\n",
       "      <td>3.000000</td>\n",
       "      <td>15.0</td>\n",
       "      <td>979.500000</td>\n",
       "      <td>1.402300e+04</td>\n",
       "      <td>8.470000e+02</td>\n",
       "      <td>180.000000</td>\n",
       "      <td>118.000000</td>\n",
       "      <td>...</td>\n",
       "      <td>0.000000</td>\n",
       "      <td>4.034000e+03</td>\n",
       "      <td>0.000000e+00</td>\n",
       "      <td>410.000000</td>\n",
       "      <td>4.143500e+03</td>\n",
       "      <td>0.000000</td>\n",
       "      <td>0.000000</td>\n",
       "      <td>0.000000</td>\n",
       "      <td>0.000000</td>\n",
       "      <td>2.708500e+03</td>\n",
       "    </tr>\n",
       "    <tr>\n",
       "      <th>75%</th>\n",
       "      <td>38.000000</td>\n",
       "      <td>3.850053e+13</td>\n",
       "      <td>41009.000000</td>\n",
       "      <td>3.000000</td>\n",
       "      <td>15.0</td>\n",
       "      <td>2744.250000</td>\n",
       "      <td>3.791375e+04</td>\n",
       "      <td>2.433500e+03</td>\n",
       "      <td>545.250000</td>\n",
       "      <td>532.000000</td>\n",
       "      <td>...</td>\n",
       "      <td>0.000000</td>\n",
       "      <td>1.866350e+04</td>\n",
       "      <td>3.030000e+02</td>\n",
       "      <td>1845.000000</td>\n",
       "      <td>1.912600e+04</td>\n",
       "      <td>0.000000</td>\n",
       "      <td>0.000000</td>\n",
       "      <td>491.000000</td>\n",
       "      <td>626.250000</td>\n",
       "      <td>7.567500e+03</td>\n",
       "    </tr>\n",
       "    <tr>\n",
       "      <th>max</th>\n",
       "      <td>51.000000</td>\n",
       "      <td>5.150230e+13</td>\n",
       "      <td>56045.000000</td>\n",
       "      <td>7.000000</td>\n",
       "      <td>15.0</td>\n",
       "      <td>995192.000000</td>\n",
       "      <td>2.543738e+07</td>\n",
       "      <td>1.307783e+06</td>\n",
       "      <td>379531.000000</td>\n",
       "      <td>248209.000000</td>\n",
       "      <td>...</td>\n",
       "      <td>7753.000000</td>\n",
       "      <td>1.372802e+07</td>\n",
       "      <td>1.312286e+06</td>\n",
       "      <td>731854.000000</td>\n",
       "      <td>1.447108e+07</td>\n",
       "      <td>173300.000000</td>\n",
       "      <td>700000.000000</td>\n",
       "      <td>869643.000000</td>\n",
       "      <td>885058.000000</td>\n",
       "      <td>2.355662e+06</td>\n",
       "    </tr>\n",
       "  </tbody>\n",
       "</table>\n",
       "<p>8 rows × 137 columns</p>\n",
       "</div>"
      ],
      "text/plain": [
       "              STATE      IDCENSUS         CONUM        SCHLEV   YRDATA  \\\n",
       "count  14376.000000  1.437600e+04  14376.000000  14376.000000  14376.0   \n",
       "mean      26.801336  2.728090e+13  29838.158598      2.883139     15.0   \n",
       "std       13.894331  1.389514e+13  14753.492121      1.271649      0.0   \n",
       "min        1.000000  1.500100e+12   1001.000000      1.000000     15.0   \n",
       "25%       15.000000  1.550327e+13  18063.000000      3.000000     15.0   \n",
       "50%       27.000000  2.750320e+13  30063.000000      3.000000     15.0   \n",
       "75%       38.000000  3.850053e+13  41009.000000      3.000000     15.0   \n",
       "max       51.000000  5.150230e+13  56045.000000      7.000000     15.0   \n",
       "\n",
       "                 V33      TOTALREV       TFEDREV            C14  \\\n",
       "count   14376.000000  1.437600e+04  1.437600e+04   14376.000000   \n",
       "mean     3374.682526  4.546951e+04  3.708038e+03     915.914858   \n",
       "std     14419.737037  2.590623e+05  2.021328e+04    5972.748111   \n",
       "min         0.000000  0.000000e+00  0.000000e+00       0.000000   \n",
       "25%       305.000000  5.241500e+03  2.920000e+02      54.000000   \n",
       "50%       979.500000  1.402300e+04  8.470000e+02     180.000000   \n",
       "75%      2744.250000  3.791375e+04  2.433500e+03     545.250000   \n",
       "max    995192.000000  2.543738e+07  1.307783e+06  379531.000000   \n",
       "\n",
       "                 C15      ...                V32          _19H          _21F  \\\n",
       "count   14376.000000      ...       14376.000000  1.437600e+04  1.437600e+04   \n",
       "mean      752.781093      ...           7.318656  2.871850e+04  4.831726e+03   \n",
       "std      3619.184513      ...         122.649299  1.841763e+05  2.652979e+04   \n",
       "min         0.000000      ...           0.000000  0.000000e+00  0.000000e+00   \n",
       "25%         0.000000      ...           0.000000  8.400000e+01  0.000000e+00   \n",
       "50%       118.000000      ...           0.000000  4.034000e+03  0.000000e+00   \n",
       "75%       532.000000      ...           0.000000  1.866350e+04  3.030000e+02   \n",
       "max    248209.000000      ...        7753.000000  1.372802e+07  1.312286e+06   \n",
       "\n",
       "                _31F          _41F           _61V           _66V  \\\n",
       "count   14376.000000  1.437600e+04   14376.000000   14376.000000   \n",
       "mean     3936.853158  2.957606e+04     487.162354     553.761547   \n",
       "std     20071.591744  1.894224e+05    3555.988118    6968.740454   \n",
       "min         0.000000  0.000000e+00       0.000000       0.000000   \n",
       "25%         5.000000  7.150000e+01       0.000000       0.000000   \n",
       "50%       410.000000  4.143500e+03       0.000000       0.000000   \n",
       "75%      1845.000000  1.912600e+04       0.000000       0.000000   \n",
       "max    731854.000000  1.447108e+07  173300.000000  700000.000000   \n",
       "\n",
       "                 W01            W31           W61  \n",
       "count   14376.000000   14376.000000  1.437600e+04  \n",
       "mean     1335.636825    3710.651920  9.091542e+03  \n",
       "std     10651.097318   20183.852905  3.261580e+04  \n",
       "min         0.000000       0.000000  0.000000e+00  \n",
       "25%         0.000000       0.000000  8.350000e+02  \n",
       "50%         0.000000       0.000000  2.708500e+03  \n",
       "75%       491.000000     626.250000  7.567500e+03  \n",
       "max    869643.000000  885058.000000  2.355662e+06  \n",
       "\n",
       "[8 rows x 137 columns]"
      ]
     },
     "execution_count": 13,
     "metadata": {},
     "output_type": "execute_result"
    }
   ],
   "source": [
    "schools.describe()"
   ]
  },
  {
   "cell_type": "code",
   "execution_count": 14,
   "metadata": {},
   "outputs": [
    {
     "data": {
      "image/png": "[encoded data removed]",
      "text/plain": [
       "<matplotlib.figure.Figure at 0x11d3bc400>"
      ]
     },
     "metadata": {},
     "output_type": "display_data"
    }
   ],
   "source": [
    "msno.matrix(schools)"
   ]
  },
  {
   "cell_type": "code",
   "execution_count": 15,
   "metadata": {
    "collapsed": true
   },
   "outputs": [],
   "source": [
    "doc_data = \"\"\"C14 C15 C16 C17 C19 B11 C20 C25 C36 B10 B12 B13 C01 C04 C05 C06 C07 C08 C09 C10 C11 C12 C13 C24 C35 C38 C39 T02 T06 T09 T15 T40 T99 D11 D23 A07 A08 A09 A11 A13 A15 A20 A40 U11 U22 U30 U50 U97 E13 J13 J12 J14 V91 V92 E17 E07 E08 E09 V40 V45 V90 V85 J17 J07 J08 J09 J40 J45 J90 J11 J96 E11 V60 V65 J10 J97 V70 V75 V80 J98 F12 G15 K09 K10 K11 J99 L12 M12 Q11 I86 Z32 Z33 V11 V13 V15 V17 V21 V23 V37 V29 Z34 V10 V12 V14 V16 V18 V22 V24 V38 V30 V32 _19H _21F _31F _41F _61V _66V W01 W31 W61\n",
    "Federal revenue through the state - Title I\n",
    "Federal revenue through the state - Children with disabilities - IDEA\n",
    "Federal revenue through the state - Math, science, and teacher quality\n",
    "Federal revenue through the state - Safe and drug-free schools\n",
    "Federal revenue through the state - Vocational and technical education\n",
    "Federal revenue through the state - Bilingual education\n",
    "Federal revenue through the state - All other\n",
    "Federal revenue through the state - Child nutrition programs\n",
    "Federal revenue - Nonspecified\n",
    "Direct federal revenue - Impact aid (P.L. 81-815 and 81-874)\n",
    "Direct federal revenue - Native American (Indian) education\n",
    "Direct federal revenue - All other\n",
    "General formula assistance\n",
    "Staff improvement programs\n",
    "Special education programs\n",
    "Compensatory and basic skills attainment programs\n",
    "Bilingual education programs\n",
    "Gifted and talented programs\n",
    "Vocational education programs\n",
    "School lunch programs\n",
    "Capital outlay and debt service programs\n",
    "Transportation programs\n",
    "All other revenues from state sources\n",
    "Census state, NCES local revenue\n",
    "State revenue - Nonspecified\n",
    "State payments on behalf - Benefits\n",
    "State payments on behalf - Nonbenefits\n",
    "Parent government contributions\n",
    "Property taxes\n",
    "General sales or gross receipts taxes\n",
    "Public utility taxes\n",
    "Individual and corporate income taxes\n",
    "All other taxes\n",
    "Revenue from other school systems\n",
    "Revenue from cities and counties\n",
    "Tuition fees from pupils, parents, and other private sources\n",
    "Transportation fees from pupils, parents, and other private sources\n",
    "School lunch revenues\n",
    "Textbook sales and rentals\n",
    "District activity receipts\n",
    "Student fees, nonspecified\n",
    "Other sales and service revenues\n",
    "Rents and royalties\n",
    "Sale of property\n",
    "Interest earnings\n",
    "Fines and forfeits\n",
    "Private contributions\n",
    "Miscellaneous other local revenues\n",
    "Current operation expenditure - Instruction\n",
    "State payments on behalf - Instruction benefits\n",
    "Own retirement system transfer - Instruction\n",
    "State payments on behalf - Instruction nonbenefits\n",
    "Exhibit - Payments to private schools\n",
    "Exhibit - Payments to charter schools\n",
    "Current operation expenditure - Pupil support\n",
    "Current operation expenditure - Instructional staff support\n",
    "Current operation expenditure - General administration\n",
    "Current operation expenditure - School administration\n",
    "Current operation expenditure - Operation and maintenance of plant\n",
    "Current operation expenditure - Student transportation\n",
    "Current operation expenditure - Business/central/other support services\n",
    "Current operation expenditure - Nonspecified support services\n",
    "State payments on behalf - Pupil support benefits\n",
    "State payments on behalf - Instructional staff support benefits\n",
    "State payments on behalf - General administration benefits\n",
    "State payments on behalf - School administration benefits\n",
    "State payments on behalf - Operation and maintenance of plant benefits\n",
    "State payments on behalf - Student transportation benefits\n",
    "State payments on behalf - Business/central/other support services benefits\n",
    "Own retirement system transfer - Support services\n",
    "State payments on behalf - Support services, nonbenefits\n",
    "Current operation expenditure - Food services\n",
    "Current operation expenditure - Enterprise operations\n",
    "Current operation expenditure - Other elementary-secondary programs\n",
    "State payments on behalf - Other benefits\n",
    "State payments on behalf - Noninstructional and nonbenefits\n",
    "Current operation expenditure - Community services\n",
    "Current operation expenditure - Adult education\n",
    "Current operation expenditure - Other nonelementary-secondary programs\n",
    "State payments on behalf - Nonelementary-secondary programs\n",
    "Construction\n",
    "Purchase of land and existing structures\n",
    "Instructional equipment\n",
    "Other equipment\n",
    "Nonspecified equipment\n",
    "State payments on behalf - Capital outlay\n",
    "Payments to state governments\n",
    "Payments to local governments\n",
    "Payments to other school systems\n",
    "Interest on school system debt\n",
    "Total salaries and wages\n",
    "Total salaries and wages - Instruction\n",
    "Total salaries and wages - Pupil support\n",
    "Total salaries and wages - Instructional staff support\n",
    "Total salaries and wages - General administration\n",
    "Total salaries and wages - School administration\n",
    "Total salaries and wages - Operation and maintenance of plant\n",
    "Total salaries and wages - Student transportation\n",
    "Total salaries and wages - Business/central/other support services\n",
    "Total salaries and wages - Food services\n",
    "Total employee benefit payments\n",
    "Total employee benefit payments - Instruction\n",
    "Total employee benefit payments - Pupil support\n",
    "Total employee benefit payments - Instructional staff\n",
    "Total employee benefit payments - General administration\n",
    "Total employee benefit payments - School administration\n",
    "Total employee benefit payments - Operation and maintenance of plant\n",
    "Total employee benefit payments - Student transportation\n",
    "Total employee benefit payments - Business/central/other support services\n",
    "Total employee benefit payments - Food services\n",
    "Total employee benefit payments - Enterprise operations\n",
    "Long-term debt outstanding at beginning of the fiscal year\n",
    "Long-term debt issued during the fiscal year\n",
    "Long-term debt retired during the fiscal year\n",
    "Long-term debt outstanding at end of fiscal year\n",
    "Short-term debt outstanding at beginning of the fiscal year\n",
    "Short-term debt outstanding at end of the fiscal year\n",
    "Cash and deposits, held at end of fiscal year - Debt service funds\n",
    "Cash and deposits, held at end of fiscal year - Bond funds\n",
    "Cash and deposits, held at end of fiscal year - Other funds\"\"\".split('\\n')"
   ]
  },
  {
   "cell_type": "code",
   "execution_count": 16,
   "metadata": {},
   "outputs": [
    {
     "name": "stdout",
     "output_type": "stream",
     "text": [
      "0\n"
     ]
    }
   ],
   "source": [
    "keys = doc_data[0].split(' ')\n",
    "print(len(keys) - (len(doc_data)-1)) # sanity check"
   ]
  },
  {
   "cell_type": "code",
   "execution_count": 17,
   "metadata": {},
   "outputs": [],
   "source": [
    "keyword_lookup = {}\n",
    "for i in range(len(keys)):\n",
    "    keyword_lookup[keys[i]] = doc_data[i+1]\n",
    "    \n"
   ]
  },
  {
   "cell_type": "code",
   "execution_count": 32,
   "metadata": {
    "collapsed": true
   },
   "outputs": [],
   "source": [
    "# helper function to remove columns from table and keyword_lookup\n",
    "def remove_col(col):\n",
    "    if col in keyword_lookup:\n",
    "        del keyword_lookup[col]\n",
    "    schools.drop(col, axis=1)"
   ]
  },
  {
   "cell_type": "code",
   "execution_count": 39,
   "metadata": {},
   "outputs": [],
   "source": [
    "# Remove the following columns: IDCENSUS*, NCESID, V33\n",
    "# Remove the following columns: V33, W01, W31, W61, V10, V12, V14, V16, V18, V22, V24\n",
    "# V38, V30, V32, I86, K10, K11, V37, _61V, _66V, V80, J98, J10, J97\n",
    "cols_to_remove = [\"IDCENSUS\", \"NCESID\", \"V33\", \"W01\", \"W31\", \"W61\", \"V10\", \"V12\", \"V14\", \"V16\", \"V18\", \"V22\", \"V24\", \"V38\", \"V30\", \"V32\", \"I86\", \"K10\", \"K11\", \"V37\", \"_61V\", \"_66V\", \"V80\", \"J98\", \"J10\", \"J97\"]\n",
    "for col in cols_to_remove:\n",
    "    remove_col(col)"
   ]
  },
  {
   "cell_type": "code",
   "execution_count": 40,
   "metadata": {
    "collapsed": true
   },
   "outputs": [],
   "source": [
    "def totrev_by_state(dataframe):\n",
    "    statevtotrev = defaultdict(lambda:0)\n",
    "    for index, row in dataframe.iterrows():\n",
    "        statevtotrev[row.STATE] += row.TOTALREV\n",
    "    sortbystate = sorted(statevtotrev.items())\n",
    "    return sortbystate\n",
    "\n",
    "\n",
    "def totexp_by_state(dataframe):\n",
    "    statevtotexp = defaultdict(lambda:0)\n",
    "    for index, row in dataframe.iterrows():\n",
    "        statevtotexp[row.STATE] += row.TOTALEXP\n",
    "    sortbystate = sorted(statevtotexp.items())\n",
    "    return sortbystate"
   ]
  },
  {
   "cell_type": "code",
   "execution_count": 41,
   "metadata": {},
   "outputs": [
    {
     "data": {
      "image/png": "[encoded data removed]",
      "text/plain": [
       "<matplotlib.figure.Figure at 0x118c688d0>"
      ]
     },
     "metadata": {},
     "output_type": "display_data"
    }
   ],
   "source": [
    "state, totrev = zip(*totrev_by_state(schools))\n",
    "\n",
    "plt.figure(figsize = (20, 10))\n",
    "plt.xlabel('State')\n",
    "plt.ylabel('Total Revenue')\n",
    "plt.bar(state, totrev)\n",
    "plt.show()"
   ]
  },
  {
   "cell_type": "code",
   "execution_count": 42,
   "metadata": {},
   "outputs": [
    {
     "data": {
      "image/png": "[encoded data removed]",
      "text/plain": [
       "<matplotlib.figure.Figure at 0x117f9aef0>"
      ]
     },
     "metadata": {},
     "output_type": "display_data"
    }
   ],
   "source": [
    "state2, totexp = zip(*totexp_by_state(schools))\n",
    "\n",
    "plt.figure(figsize = (20, 10))\n",
    "plt.xlabel('State')\n",
    "plt.ylabel('Total Expenditure')\n",
    "plt.bar(state2, totexp)\n",
    "plt.show()"
   ]
  },
  {
   "cell_type": "code",
   "execution_count": 43,
   "metadata": {
    "collapsed": true
   },
   "outputs": [],
   "source": [
    "def avgtotrev_by_state(dataframe):\n",
    "    entriesperstate = defaultdict(lambda:0)\n",
    "    statevtotrev = defaultdict(lambda:0)\n",
    "    for index, row in dataframe.iterrows():\n",
    "        entriesperstate[row.STATE] += 1\n",
    "        statevtotrev[row.STATE] += row.TOTALREV\n",
    "    for state in statevtotrev.keys():\n",
    "        statevtotrev[state] = statevtotrev[state] / entriesperstate[state]\n",
    "    sortbystate = sorted(statevtotrev.items())\n",
    "    return sortbystate\n",
    "\n",
    "\n",
    "def avgtotexp_by_state(dataframe):\n",
    "    entriesperstate = defaultdict(lambda:0)\n",
    "    statevtotexp = defaultdict(lambda:0)\n",
    "    for index, row in dataframe.iterrows():\n",
    "        entriesperstate[row.STATE] += 1\n",
    "        statevtotexp[row.STATE] += row.TOTALEXP\n",
    "    for state in statevtotexp.keys():\n",
    "        statevtotexp[state] = statevtotexp[state] / entriesperstate[state]\n",
    "    sortbystate = sorted(statevtotexp.items())\n",
    "    return sortbystate"
   ]
  },
  {
   "cell_type": "code",
   "execution_count": 44,
   "metadata": {},
   "outputs": [
    {
     "data": {
      "image/png": "[encoded data removed]",
      "text/plain": [
       "<matplotlib.figure.Figure at 0x11c409390>"
      ]
     },
     "metadata": {},
     "output_type": "display_data"
    }
   ],
   "source": [
    "state3, avgtotrev = zip(*avgtotrev_by_state(schools))\n",
    "\n",
    "plt.figure(figsize = (20, 10))\n",
    "plt.xlabel('State')\n",
    "plt.ylabel('Average Total Revenue')\n",
    "plt.bar(state3, avgtotrev)\n",
    "plt.show()"
   ]
  },
  {
   "cell_type": "code",
   "execution_count": 45,
   "metadata": {},
   "outputs": [
    {
     "data": {
      "image/png": "[encoded data removed]",
      "text/plain": [
       "<matplotlib.figure.Figure at 0x117e387b8>"
      ]
     },
     "metadata": {},
     "output_type": "display_data"
    }
   ],
   "source": [
    "state4, avgtotexp = zip(*avgtotexp_by_state(schools))\n",
    "\n",
    "plt.figure(figsize = (20, 10))\n",
    "plt.xlabel('State')\n",
    "plt.ylabel('Average Total Expenditure')\n",
    "plt.bar(state4, avgtotexp)\n",
    "plt.show()"
   ]
  },
  {
   "cell_type": "code",
   "execution_count": 46,
   "metadata": {},
   "outputs": [
    {
     "data": {
      "image/png": "[encoded data removed]",
      "text/plain": [
       "<matplotlib.figure.Figure at 0x1189fa4a8>"
      ]
     },
     "metadata": {},
     "output_type": "display_data"
    }
   ],
   "source": [
    "sums = []\n",
    "columns = ['C14', 'C15', 'C16', 'C17', 'C19', 'B11', 'C25']\n",
    "for i in columns:\n",
    "    sums += [sum(schools[i])]\n",
    "labels = ['Title I', \"Disabilities\", \"Teacher quality\", \"Safety\", \"Vocational\", \"Bilingual\", \"Nutrition\"]\n",
    "\n",
    "y_pos = np.arange(len(sums))\n",
    "plt.bar(y_pos, sums)\n",
    "plt.xticks(y_pos, labels)\n",
    "plt.ylabel('Amount (dollars)')\n",
    "plt.title('Comparison of Funding')\n",
    " \n",
    "plt.show()\n",
    "    "
   ]
  },
  {
   "cell_type": "code",
   "execution_count": 47,
   "metadata": {},
   "outputs": [
    {
     "data": {
      "text/plain": [
       "'Federal revenue through the state - Child nutrition programs'"
      ]
     },
     "execution_count": 47,
     "metadata": {},
     "output_type": "execute_result"
    }
   ],
   "source": [
    "keyword_lookup['C25']"
   ]
  },
  {
   "cell_type": "code",
   "execution_count": 48,
   "metadata": {},
   "outputs": [
    {
     "data": {
      "image/png": "[encoded data removed]",
      "text/plain": [
       "<matplotlib.figure.Figure at 0x118b62128>"
      ]
     },
     "metadata": {},
     "output_type": "display_data"
    }
   ],
   "source": [
    "fig1, ax1 = plt.subplots()\n",
    "ax1.pie(sums, labels=labels)\n",
    "ax1.axis('equal')  # Equal aspect ratio ensures that pie is drawn as a circle.\n",
    "plt.title('Comparison of Funding')\n",
    "plt.show()"
   ]
  },
  {
   "cell_type": "code",
   "execution_count": 49,
   "metadata": {},
   "outputs": [
    {
     "data": {
      "image/png": "[encoded data removed]",
      "text/plain": [
       "<matplotlib.figure.Figure at 0x118a87710>"
      ]
     },
     "metadata": {},
     "output_type": "display_data"
    },
    {
     "data": {
      "text/plain": [
       "array([[ 1.       ,  0.9893757],\n",
       "       [ 0.9893757,  1.       ]])"
      ]
     },
     "execution_count": 49,
     "metadata": {},
     "output_type": "execute_result"
    }
   ],
   "source": [
    "total_rev = schools['TOTALREV']\n",
    "instruction = schools['E13']\n",
    "\n",
    "for i in range(len(total_rev)):\n",
    "    rev = total_rev[i]\n",
    "    if rev >= 25000000:\n",
    "        total_rev = total_rev.drop(i)\n",
    "        instruction = instruction.drop(i)\n",
    "        i -= 1\n",
    "    \n",
    "slope, intercept = np.polyfit(total_rev, instruction, 1)\n",
    "y = [slope * x + intercept for x in total_rev]\n",
    "\n",
    "plt.scatter(total_rev, instruction)\n",
    "plt.plot(total_rev, y)\n",
    "plt.xlabel(\"Total Revenue\")\n",
    "plt.ylabel(\"Expenditure on Instruction\")\n",
    "plt.title(\"Revenue vs. Instruction\")\n",
    "\n",
    "plt.show()\n",
    "\n",
    "np.corrcoef(total_rev, instruction)"
   ]
  },
  {
   "cell_type": "code",
   "execution_count": 50,
   "metadata": {},
   "outputs": [
    {
     "ename": "KeyError",
     "evalue": "'FL_V33'",
     "output_type": "error",
     "traceback": [
      "\u001b[0;31m---------------------------------------------------------------------------\u001b[0m",
      "\u001b[0;31mKeyError\u001b[0m                                  Traceback (most recent call last)",
      "\u001b[0;32m~/anaconda3/envs/dsd/lib/python3.6/site-packages/pandas/core/indexes/base.py\u001b[0m in \u001b[0;36mget_loc\u001b[0;34m(self, key, method, tolerance)\u001b[0m\n\u001b[1;32m   2441\u001b[0m             \u001b[0;32mtry\u001b[0m\u001b[0;34m:\u001b[0m\u001b[0;34m\u001b[0m\u001b[0m\n\u001b[0;32m-> 2442\u001b[0;31m                 \u001b[0;32mreturn\u001b[0m \u001b[0mself\u001b[0m\u001b[0;34m.\u001b[0m\u001b[0m_engine\u001b[0m\u001b[0;34m.\u001b[0m\u001b[0mget_loc\u001b[0m\u001b[0;34m(\u001b[0m\u001b[0mkey\u001b[0m\u001b[0;34m)\u001b[0m\u001b[0;34m\u001b[0m\u001b[0m\n\u001b[0m\u001b[1;32m   2443\u001b[0m             \u001b[0;32mexcept\u001b[0m \u001b[0mKeyError\u001b[0m\u001b[0;34m:\u001b[0m\u001b[0;34m\u001b[0m\u001b[0m\n",
      "\u001b[0;32mpandas/_libs/index.pyx\u001b[0m in \u001b[0;36mpandas._libs.index.IndexEngine.get_loc (pandas/_libs/index.c:5280)\u001b[0;34m()\u001b[0m\n",
      "\u001b[0;32mpandas/_libs/index.pyx\u001b[0m in \u001b[0;36mpandas._libs.index.IndexEngine.get_loc (pandas/_libs/index.c:5126)\u001b[0;34m()\u001b[0m\n",
      "\u001b[0;32mpandas/_libs/hashtable_class_helper.pxi\u001b[0m in \u001b[0;36mpandas._libs.hashtable.PyObjectHashTable.get_item (pandas/_libs/hashtable.c:20523)\u001b[0;34m()\u001b[0m\n",
      "\u001b[0;32mpandas/_libs/hashtable_class_helper.pxi\u001b[0m in \u001b[0;36mpandas._libs.hashtable.PyObjectHashTable.get_item (pandas/_libs/hashtable.c:20477)\u001b[0;34m()\u001b[0m\n",
      "\u001b[0;31mKeyError\u001b[0m: 'FL_V33'",
      "\nDuring handling of the above exception, another exception occurred:\n",
      "\u001b[0;31mKeyError\u001b[0m                                  Traceback (most recent call last)",
      "\u001b[0;32m<ipython-input-50-d38ecb7cbb2e>\u001b[0m in \u001b[0;36m<module>\u001b[0;34m()\u001b[0m\n\u001b[0;32m----> 1\u001b[0;31m \u001b[0mschools\u001b[0m\u001b[0;34m[\u001b[0m\u001b[0;34m'FL_V33'\u001b[0m\u001b[0;34m]\u001b[0m\u001b[0;34m\u001b[0m\u001b[0m\n\u001b[0m",
      "\u001b[0;32m~/anaconda3/envs/dsd/lib/python3.6/site-packages/pandas/core/frame.py\u001b[0m in \u001b[0;36m__getitem__\u001b[0;34m(self, key)\u001b[0m\n\u001b[1;32m   1962\u001b[0m             \u001b[0;32mreturn\u001b[0m \u001b[0mself\u001b[0m\u001b[0;34m.\u001b[0m\u001b[0m_getitem_multilevel\u001b[0m\u001b[0;34m(\u001b[0m\u001b[0mkey\u001b[0m\u001b[0;34m)\u001b[0m\u001b[0;34m\u001b[0m\u001b[0m\n\u001b[1;32m   1963\u001b[0m         \u001b[0;32melse\u001b[0m\u001b[0;34m:\u001b[0m\u001b[0;34m\u001b[0m\u001b[0m\n\u001b[0;32m-> 1964\u001b[0;31m             \u001b[0;32mreturn\u001b[0m \u001b[0mself\u001b[0m\u001b[0;34m.\u001b[0m\u001b[0m_getitem_column\u001b[0m\u001b[0;34m(\u001b[0m\u001b[0mkey\u001b[0m\u001b[0;34m)\u001b[0m\u001b[0;34m\u001b[0m\u001b[0m\n\u001b[0m\u001b[1;32m   1965\u001b[0m \u001b[0;34m\u001b[0m\u001b[0m\n\u001b[1;32m   1966\u001b[0m     \u001b[0;32mdef\u001b[0m \u001b[0m_getitem_column\u001b[0m\u001b[0;34m(\u001b[0m\u001b[0mself\u001b[0m\u001b[0;34m,\u001b[0m \u001b[0mkey\u001b[0m\u001b[0;34m)\u001b[0m\u001b[0;34m:\u001b[0m\u001b[0;34m\u001b[0m\u001b[0m\n",
      "\u001b[0;32m~/anaconda3/envs/dsd/lib/python3.6/site-packages/pandas/core/frame.py\u001b[0m in \u001b[0;36m_getitem_column\u001b[0;34m(self, key)\u001b[0m\n\u001b[1;32m   1969\u001b[0m         \u001b[0;31m# get column\u001b[0m\u001b[0;34m\u001b[0m\u001b[0;34m\u001b[0m\u001b[0m\n\u001b[1;32m   1970\u001b[0m         \u001b[0;32mif\u001b[0m \u001b[0mself\u001b[0m\u001b[0;34m.\u001b[0m\u001b[0mcolumns\u001b[0m\u001b[0;34m.\u001b[0m\u001b[0mis_unique\u001b[0m\u001b[0;34m:\u001b[0m\u001b[0;34m\u001b[0m\u001b[0m\n\u001b[0;32m-> 1971\u001b[0;31m             \u001b[0;32mreturn\u001b[0m \u001b[0mself\u001b[0m\u001b[0;34m.\u001b[0m\u001b[0m_get_item_cache\u001b[0m\u001b[0;34m(\u001b[0m\u001b[0mkey\u001b[0m\u001b[0;34m)\u001b[0m\u001b[0;34m\u001b[0m\u001b[0m\n\u001b[0m\u001b[1;32m   1972\u001b[0m \u001b[0;34m\u001b[0m\u001b[0m\n\u001b[1;32m   1973\u001b[0m         \u001b[0;31m# duplicate columns & possible reduce dimensionality\u001b[0m\u001b[0;34m\u001b[0m\u001b[0;34m\u001b[0m\u001b[0m\n",
      "\u001b[0;32m~/anaconda3/envs/dsd/lib/python3.6/site-packages/pandas/core/generic.py\u001b[0m in \u001b[0;36m_get_item_cache\u001b[0;34m(self, item)\u001b[0m\n\u001b[1;32m   1643\u001b[0m         \u001b[0mres\u001b[0m \u001b[0;34m=\u001b[0m \u001b[0mcache\u001b[0m\u001b[0;34m.\u001b[0m\u001b[0mget\u001b[0m\u001b[0;34m(\u001b[0m\u001b[0mitem\u001b[0m\u001b[0;34m)\u001b[0m\u001b[0;34m\u001b[0m\u001b[0m\n\u001b[1;32m   1644\u001b[0m         \u001b[0;32mif\u001b[0m \u001b[0mres\u001b[0m \u001b[0;32mis\u001b[0m \u001b[0;32mNone\u001b[0m\u001b[0;34m:\u001b[0m\u001b[0;34m\u001b[0m\u001b[0m\n\u001b[0;32m-> 1645\u001b[0;31m             \u001b[0mvalues\u001b[0m \u001b[0;34m=\u001b[0m \u001b[0mself\u001b[0m\u001b[0;34m.\u001b[0m\u001b[0m_data\u001b[0m\u001b[0;34m.\u001b[0m\u001b[0mget\u001b[0m\u001b[0;34m(\u001b[0m\u001b[0mitem\u001b[0m\u001b[0;34m)\u001b[0m\u001b[0;34m\u001b[0m\u001b[0m\n\u001b[0m\u001b[1;32m   1646\u001b[0m             \u001b[0mres\u001b[0m \u001b[0;34m=\u001b[0m \u001b[0mself\u001b[0m\u001b[0;34m.\u001b[0m\u001b[0m_box_item_values\u001b[0m\u001b[0;34m(\u001b[0m\u001b[0mitem\u001b[0m\u001b[0;34m,\u001b[0m \u001b[0mvalues\u001b[0m\u001b[0;34m)\u001b[0m\u001b[0;34m\u001b[0m\u001b[0m\n\u001b[1;32m   1647\u001b[0m             \u001b[0mcache\u001b[0m\u001b[0;34m[\u001b[0m\u001b[0mitem\u001b[0m\u001b[0;34m]\u001b[0m \u001b[0;34m=\u001b[0m \u001b[0mres\u001b[0m\u001b[0;34m\u001b[0m\u001b[0m\n",
      "\u001b[0;32m~/anaconda3/envs/dsd/lib/python3.6/site-packages/pandas/core/internals.py\u001b[0m in \u001b[0;36mget\u001b[0;34m(self, item, fastpath)\u001b[0m\n\u001b[1;32m   3588\u001b[0m \u001b[0;34m\u001b[0m\u001b[0m\n\u001b[1;32m   3589\u001b[0m             \u001b[0;32mif\u001b[0m \u001b[0;32mnot\u001b[0m \u001b[0misnull\u001b[0m\u001b[0;34m(\u001b[0m\u001b[0mitem\u001b[0m\u001b[0;34m)\u001b[0m\u001b[0;34m:\u001b[0m\u001b[0;34m\u001b[0m\u001b[0m\n\u001b[0;32m-> 3590\u001b[0;31m                 \u001b[0mloc\u001b[0m \u001b[0;34m=\u001b[0m \u001b[0mself\u001b[0m\u001b[0;34m.\u001b[0m\u001b[0mitems\u001b[0m\u001b[0;34m.\u001b[0m\u001b[0mget_loc\u001b[0m\u001b[0;34m(\u001b[0m\u001b[0mitem\u001b[0m\u001b[0;34m)\u001b[0m\u001b[0;34m\u001b[0m\u001b[0m\n\u001b[0m\u001b[1;32m   3591\u001b[0m             \u001b[0;32melse\u001b[0m\u001b[0;34m:\u001b[0m\u001b[0;34m\u001b[0m\u001b[0m\n\u001b[1;32m   3592\u001b[0m                 \u001b[0mindexer\u001b[0m \u001b[0;34m=\u001b[0m \u001b[0mnp\u001b[0m\u001b[0;34m.\u001b[0m\u001b[0marange\u001b[0m\u001b[0;34m(\u001b[0m\u001b[0mlen\u001b[0m\u001b[0;34m(\u001b[0m\u001b[0mself\u001b[0m\u001b[0;34m.\u001b[0m\u001b[0mitems\u001b[0m\u001b[0;34m)\u001b[0m\u001b[0;34m)\u001b[0m\u001b[0;34m[\u001b[0m\u001b[0misnull\u001b[0m\u001b[0;34m(\u001b[0m\u001b[0mself\u001b[0m\u001b[0;34m.\u001b[0m\u001b[0mitems\u001b[0m\u001b[0;34m)\u001b[0m\u001b[0;34m]\u001b[0m\u001b[0;34m\u001b[0m\u001b[0m\n",
      "\u001b[0;32m~/anaconda3/envs/dsd/lib/python3.6/site-packages/pandas/core/indexes/base.py\u001b[0m in \u001b[0;36mget_loc\u001b[0;34m(self, key, method, tolerance)\u001b[0m\n\u001b[1;32m   2442\u001b[0m                 \u001b[0;32mreturn\u001b[0m \u001b[0mself\u001b[0m\u001b[0;34m.\u001b[0m\u001b[0m_engine\u001b[0m\u001b[0;34m.\u001b[0m\u001b[0mget_loc\u001b[0m\u001b[0;34m(\u001b[0m\u001b[0mkey\u001b[0m\u001b[0;34m)\u001b[0m\u001b[0;34m\u001b[0m\u001b[0m\n\u001b[1;32m   2443\u001b[0m             \u001b[0;32mexcept\u001b[0m \u001b[0mKeyError\u001b[0m\u001b[0;34m:\u001b[0m\u001b[0;34m\u001b[0m\u001b[0m\n\u001b[0;32m-> 2444\u001b[0;31m                 \u001b[0;32mreturn\u001b[0m \u001b[0mself\u001b[0m\u001b[0;34m.\u001b[0m\u001b[0m_engine\u001b[0m\u001b[0;34m.\u001b[0m\u001b[0mget_loc\u001b[0m\u001b[0;34m(\u001b[0m\u001b[0mself\u001b[0m\u001b[0;34m.\u001b[0m\u001b[0m_maybe_cast_indexer\u001b[0m\u001b[0;34m(\u001b[0m\u001b[0mkey\u001b[0m\u001b[0;34m)\u001b[0m\u001b[0;34m)\u001b[0m\u001b[0;34m\u001b[0m\u001b[0m\n\u001b[0m\u001b[1;32m   2445\u001b[0m \u001b[0;34m\u001b[0m\u001b[0m\n\u001b[1;32m   2446\u001b[0m         \u001b[0mindexer\u001b[0m \u001b[0;34m=\u001b[0m \u001b[0mself\u001b[0m\u001b[0;34m.\u001b[0m\u001b[0mget_indexer\u001b[0m\u001b[0;34m(\u001b[0m\u001b[0;34m[\u001b[0m\u001b[0mkey\u001b[0m\u001b[0;34m]\u001b[0m\u001b[0;34m,\u001b[0m \u001b[0mmethod\u001b[0m\u001b[0;34m=\u001b[0m\u001b[0mmethod\u001b[0m\u001b[0;34m,\u001b[0m \u001b[0mtolerance\u001b[0m\u001b[0;34m=\u001b[0m\u001b[0mtolerance\u001b[0m\u001b[0;34m)\u001b[0m\u001b[0;34m\u001b[0m\u001b[0m\n",
      "\u001b[0;32mpandas/_libs/index.pyx\u001b[0m in \u001b[0;36mpandas._libs.index.IndexEngine.get_loc (pandas/_libs/index.c:5280)\u001b[0;34m()\u001b[0m\n",
      "\u001b[0;32mpandas/_libs/index.pyx\u001b[0m in \u001b[0;36mpandas._libs.index.IndexEngine.get_loc (pandas/_libs/index.c:5126)\u001b[0;34m()\u001b[0m\n",
      "\u001b[0;32mpandas/_libs/hashtable_class_helper.pxi\u001b[0m in \u001b[0;36mpandas._libs.hashtable.PyObjectHashTable.get_item (pandas/_libs/hashtable.c:20523)\u001b[0;34m()\u001b[0m\n",
      "\u001b[0;32mpandas/_libs/hashtable_class_helper.pxi\u001b[0m in \u001b[0;36mpandas._libs.hashtable.PyObjectHashTable.get_item (pandas/_libs/hashtable.c:20477)\u001b[0;34m()\u001b[0m\n",
      "\u001b[0;31mKeyError\u001b[0m: 'FL_V33'"
     ]
    }
   ],
   "source": [
    "schools['FL_V33']"
   ]
  },
  {
   "cell_type": "code",
   "execution_count": null,
   "metadata": {
    "collapsed": true
   },
   "outputs": [],
   "source": []
  },
  {
   "cell_type": "code",
   "execution_count": null,
   "metadata": {
    "collapsed": true
   },
   "outputs": [],
   "source": []
  }
 ],
 "metadata": {
  "kernelspec": {
   "display_name": "Python 3",
   "language": "python",
   "name": "python3"
  },
  "language_info": {
   "codemirror_mode": {
    "name": "ipython",
    "version": 3
   },
   "file_extension": ".py",
   "mimetype": "text/x-python",
   "name": "python",
   "nbconvert_exporter": "python",
   "pygments_lexer": "ipython3",
   "version": "3.6.2"
  }
 },
 "nbformat": 4,
 "nbformat_minor": 2
}
